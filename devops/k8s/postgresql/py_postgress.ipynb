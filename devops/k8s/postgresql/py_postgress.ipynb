{
 "cells": [
  {
   "cell_type": "markdown",
   "metadata": {},
   "source": [
    "# python 操作 postgresql"
   ]
  },
  {
   "cell_type": "markdown",
   "metadata": {},
   "source": [
    "## 数据库连接\n",
    "\n",
    "### 2.1 安装 psycopg2\n",
    "\n",
    "```bash\n",
    "lsof -i :8032\n",
    "kill -9 12345\n",
    "\n",
    "kubectl get namespaces\n",
    "kubectl get pods\n",
    "kubectl --namespace default port-forward pods/postgres-59f958ccd8-j6mbq 8032:5432&\n",
    "\n",
    "pip3 install psycopg2 -i https://pypi.tuna.tsinghua.edu.cn/simple\n",
    "\n",
    "# 如果 报错 pg_config executable not found\n",
    "# sudo apt-get install libpq-dev python-dev\n",
    "brew install postgresql\n",
    "# pip3 install psycopg2-binary\n",
    "\n",
    "psql -h localhost -U postgres --password -p 8032 postgresdb\n",
    "\n",
    "CREATE DATABASE python;\n",
    "\n",
    "# 连接成功即可执行查询\n",
    "# SELECT * FROM pg_database;\n",
    "```\n",
    "\n",
    "### 2.2 连接数据库\n",
    "\n",
    "每条完整的 sql 执行步骤如下，读者应谨记；\n",
    "\n",
    "1. 建立连接获得 connect 对象\n",
    "2. 获得游标对象，一个游标对象可以对数据库进行执行操作，非线程安全，多个应用会在同一个连接种创建多个光标；\n",
    "3. 书写sql语句\n",
    "4. 调用execute()方法执行sql\n",
    "5. 抓取数据（可选操作）\n",
    "6. 提交事物\n",
    "7. 关闭连接"
   ]
  },
  {
   "cell_type": "code",
   "execution_count": 2,
   "metadata": {},
   "outputs": [
    {
     "name": "stdout",
     "output_type": "stream",
     "text": [
      "database version : PostgreSQL 11.15 (Debian 11.15-1.pgdg90+1) on x86_64-pc-linux-gnu, compiled by gcc (Debian 6.3.0-18+deb9u1) 6.3.0 20170516, 64-bit \n"
     ]
    }
   ],
   "source": [
    "import psycopg2\n",
    "# 获得连接\n",
    "conn = psycopg2.connect(database=\"python\", user=\"postgres\", password=\"password\", host=\"127.0.0.1\", port=\"8032\")\n",
    "# 获得游标对象\n",
    "cursor = conn.cursor()\n",
    "# sql语句\n",
    "sql = \"SELECT VERSION()\"\n",
    "# 执行语句\n",
    "cursor.execute(sql)\n",
    "# 获取单条数据.\n",
    "data = cursor.fetchone()\n",
    "# 打印\n",
    "print(\"database version : %s \" % data)\n",
    "# 事物提交\n",
    "conn.commit()\n",
    "# 关闭数据库连接\n",
    "conn.close()"
   ]
  },
  {
   "cell_type": "markdown",
   "metadata": {},
   "source": [
    "## 创建表\n",
    "\n",
    "### 插入数据姿势一\n",
    "\n",
    "创建学生表主要有字段id 唯一标识，字段 num 代表学号，字段 name 代表学生姓名；详细的建表默认规则转换见附录"
   ]
  },
  {
   "cell_type": "code",
   "execution_count": 3,
   "metadata": {},
   "outputs": [
    {
     "name": "stdout",
     "output_type": "stream",
     "text": [
      "student table created successfully\n"
     ]
    }
   ],
   "source": [
    "import psycopg2\n",
    "# 获得连接\n",
    "conn = psycopg2.connect(database=\"python\", user=\"postgres\", password=\"password\", host=\"127.0.0.1\", port=\"8032\")\n",
    "# 获得游标对象，一个游标对象可以对数据库进行执行操作\n",
    "cursor = conn.cursor()\n",
    "# sql语句 建表\n",
    "sql = \"\"\"CREATE TABLE student (\n",
    "id serial4 PRIMARY KEY, \n",
    "num int4,\n",
    "name varchar(25));\"\"\"\n",
    "# 执行语句\n",
    "cursor.execute(sql)\n",
    "print(\"student table created successfully\")\n",
    "# 事物提交\n",
    "conn.commit()\n",
    "# 关闭数据库连接\n",
    "conn.close()"
   ]
  },
  {
   "cell_type": "markdown",
   "metadata": {},
   "source": [
    "## 插入操作\n",
    "\n",
    "提供的第一种防止sql注入的插入数据方式（具有占位符的预编译sql），重要程度不言而喻；美中不足是字符串类型必须带上单引号；"
   ]
  },
  {
   "cell_type": "code",
   "execution_count": 4,
   "metadata": {},
   "outputs": [
    {
     "name": "stdout",
     "output_type": "stream",
     "text": [
      "successfully\n"
     ]
    }
   ],
   "source": [
    "# -*- coding: utf-8 -*-\n",
    "import psycopg2\n",
    "# 获得连接\n",
    "conn = psycopg2.connect(database=\"python\", user=\"postgres\", password=\"password\", host=\"127.0.0.1\", port=\"8032\")\n",
    "# 获得游标对象，一个游标对象可以对数据库进行执行操作\n",
    "cursor = conn.cursor()\n",
    "# sql语句 建表\n",
    "sql =\"INSERT INTO student (num, name) \\\n",
    "                    VALUES (%s, '%s')\" % \\\n",
    "                    (100, 'zszxz')\n",
    "# 执行语句\n",
    "cursor.execute(sql)\n",
    "print(\"successfully\")\n",
    "# 事物提交\n",
    "conn.commit()\n",
    "# 关闭数据库连接\n",
    "conn.close()"
   ]
  },
  {
   "cell_type": "markdown",
   "metadata": {},
   "source": [
    "### 插入数据姿势二（参数分离）\n",
    "\n",
    "下面参数与 sql 语句分离插入的姿势更简便帅气，也是防止sql注入问题；强烈推荐；"
   ]
  },
  {
   "cell_type": "code",
   "execution_count": 5,
   "metadata": {},
   "outputs": [
    {
     "name": "stdout",
     "output_type": "stream",
     "text": [
      "successfully\n"
     ]
    }
   ],
   "source": [
    "# -*- coding: utf-8 -*-\n",
    "import psycopg2\n",
    "# 获得连接\n",
    "conn = psycopg2.connect(database=\"python\", user=\"postgres\", password=\"password\", host=\"127.0.0.1\", port=\"8032\")\n",
    "# 获得游标对象，一个游标对象可以对数据库进行执行操作\n",
    "cursor = conn.cursor()\n",
    "# sql语句 建表\n",
    "sql =\"\"\"INSERT INTO student (num, name) VALUES (%s, %s)\"\"\"\n",
    "params = (101, 'zszxz')\n",
    "# 执行语句\n",
    "cursor.execute(sql,params)\n",
    "print(\"successfully\")\n",
    "# 事物提交\n",
    "conn.commit()\n",
    "# 关闭数据库连接\n",
    "conn.close()"
   ]
  },
  {
   "cell_type": "markdown",
   "metadata": {},
   "source": [
    "### 插入数据姿势三（字典）\n",
    "\n",
    "第三种姿势也就是是支持字典映射关系插入，使用字典方式的插入数据是根据字典的key进行匹配占位符，强烈推荐；"
   ]
  },
  {
   "cell_type": "code",
   "execution_count": null,
   "metadata": {},
   "outputs": [],
   "source": [
    "# -*- coding: utf-8 -*-\n",
    "import psycopg2\n",
    "# 获得连接\n",
    "conn = psycopg2.connect(database=\"python\", user=\"postgres\", password=\"password\", host=\"127.0.0.1\", port=\"8032\")\n",
    "# 获得游标对象，一个游标对象可以对数据库进行执行操作\n",
    "cursor = conn.cursor()\n",
    "# sql语句 建表\n",
    "sql =\"\"\"INSERT INTO student (num, name) VALUES (%(num)s, %(name)s)\"\"\"\n",
    "params = {'num':102, 'name':'zszxz'}\n",
    "# 执行语句\n",
    "cursor.execute(sql,params)\n",
    "print(\"successfully\")\n",
    "# 事物提交\n",
    "conn.commit()\n",
    "# 关闭数据库连接\n",
    "conn.close()"
   ]
  },
  {
   "cell_type": "markdown",
   "metadata": {},
   "source": [
    "## 查询操作\n",
    "\n",
    "### 5.1 查询一条数据\n",
    "\n",
    "使用 fetchone() 方法可以抓取一条数据, 返回的是元组；"
   ]
  },
  {
   "cell_type": "code",
   "execution_count": 6,
   "metadata": {},
   "outputs": [
    {
     "name": "stdout",
     "output_type": "stream",
     "text": [
      "(1, 100, 'zszxz')\n"
     ]
    }
   ],
   "source": [
    "# -*- coding: utf-8 -*-\n",
    "import psycopg2\n",
    "# 获得连接\n",
    "conn = psycopg2.connect(database=\"python\", user=\"postgres\", password=\"password\", host=\"127.0.0.1\", port=\"8032\")\n",
    "# 获得游标对象，一个游标对象可以对数据库进行执行操作\n",
    "cursor = conn.cursor()\n",
    "# sql语句 建表\n",
    "sql =\"\"\"SELECT * FROM student;\"\"\"\n",
    "# 执行语句\n",
    "cursor.execute(sql)\n",
    "# 抓取\n",
    "row = cursor.fetchone()\n",
    "print(row)\n",
    "# 事物提交\n",
    "conn.commit()\n",
    "# 关闭数据库连接\n",
    "cursor.close()\n",
    "conn.close()"
   ]
  },
  {
   "cell_type": "markdown",
   "metadata": {},
   "source": [
    "### 查询多条数据\n",
    "\n",
    "1. 使用 fetchmany([size=cursor.arraysize]) 方法可以抓取多条数据；\n",
    "2. 此方法可以多次使用，直到数据库中没有数据，此时会返回空列表；\n",
    "3. 如果不传参数，会限制查询条数，一般就是返回第一条；"
   ]
  },
  {
   "cell_type": "code",
   "execution_count": 7,
   "metadata": {},
   "outputs": [
    {
     "name": "stdout",
     "output_type": "stream",
     "text": [
      "[(1, 100, 'zszxz'), (2, 101, 'zszxz')]\n"
     ]
    }
   ],
   "source": [
    "# -*- coding: utf-8 -*-\n",
    "import psycopg2\n",
    "# 获得连接\n",
    "conn = psycopg2.connect(database=\"python\", user=\"postgres\", password=\"password\", host=\"127.0.0.1\", port=\"8032\")\n",
    "# 获得游标对象，一个游标对象可以对数据库进行执行操作\n",
    "cursor = conn.cursor()\n",
    "# sql语句 建表\n",
    "sql =\"\"\"SELECT * FROM student;\"\"\"\n",
    "# 执行语句\n",
    "cursor.execute(sql)\n",
    "# 抓取\n",
    "#row = cursor.fetchone()\n",
    "rows = cursor.fetchmany(2)\n",
    "print(rows)\n",
    "# 事物提交\n",
    "conn.commit()\n",
    "# 关闭数据库连接\n",
    "cursor.close()\n",
    "conn.close()"
   ]
  },
  {
   "cell_type": "markdown",
   "metadata": {},
   "source": [
    "### 查询全部数据\n",
    "\n",
    "使用 fetchall() 方法会抓取所有数据；"
   ]
  },
  {
   "cell_type": "code",
   "execution_count": null,
   "metadata": {},
   "outputs": [],
   "source": [
    "# -*- coding: utf-8 -*-\n",
    "import psycopg2\n",
    "# 获得连接\n",
    "conn = psycopg2.connect(database=\"python\", user=\"postgres\", password=\"123456\", host=\"127.0.0.1\", port=\"5432\")\n",
    "# 获得游标对象，一个游标对象可以对数据库进行执行操作\n",
    "cursor = conn.cursor()\n",
    "# sql语句 建表\n",
    "sql =\"\"\"SELECT * FROM student;\"\"\"\n",
    "# 执行语句\n",
    "cursor.execute(sql)\n",
    "# 抓取\n",
    "rows = cursor.fetchall()\n",
    "print(rows)\n",
    "# 事物提交\n",
    "conn.commit()\n",
    "# 关闭数据库连接\n",
    "cursor.close()\n",
    "conn.close()"
   ]
  },
  {
   "cell_type": "markdown",
   "metadata": {},
   "source": [
    "### 按条件查询\n",
    "\n",
    "1. 带参查询读者应该谨记sql 与 参数 分离\n",
    "2. 参数的末尾必须加上逗号\n",
    "3. 如果知道返回的数据就一条使用fetchone()方法，如果无特殊要求，否则建议使用 fetchall()方法"
   ]
  },
  {
   "cell_type": "code",
   "execution_count": 8,
   "metadata": {},
   "outputs": [
    {
     "name": "stdout",
     "output_type": "stream",
     "text": [
      "[(1, 100, 'zszxz')]\n"
     ]
    }
   ],
   "source": [
    "# -*- coding: utf-8 -*-\n",
    "import psycopg2\n",
    "# 获得连接\n",
    "conn = psycopg2.connect(database=\"python\", user=\"postgres\", password=\"password\", host=\"127.0.0.1\", port=\"8032\")\n",
    "# 获得游标对象，一个游标对象可以对数据库进行执行操作\n",
    "cursor = conn.cursor()\n",
    "# sql语句 建表\n",
    "sql =\"\"\"SELECT * FROM student where id = %s;\"\"\"\n",
    "params = (1,)\n",
    "# 执行语句\n",
    "cursor.execute(sql,params)\n",
    "# 抓取\n",
    "rows = cursor.fetchall()\n",
    "print(rows)\n",
    "# 事物提交\n",
    "conn.commit()\n",
    "# 关闭数据库连接\n",
    "cursor.close()\n",
    "conn.close()"
   ]
  },
  {
   "cell_type": "markdown",
   "metadata": {},
   "source": [
    "## 更新操作\n",
    "\n",
    "更新操作跟之前的查询，插入类似，参数对应的文章分清楚即可。"
   ]
  },
  {
   "cell_type": "code",
   "execution_count": 9,
   "metadata": {},
   "outputs": [],
   "source": [
    "# -*- coding: utf-8 -*-\n",
    "import psycopg2\n",
    "# 获得连接\n",
    "conn = psycopg2.connect(database=\"python\", user=\"postgres\", password=\"password\", host=\"127.0.0.1\", port=\"8032\")\n",
    "# 获得游标对象，一个游标对象可以对数据库进行执行操作\n",
    "cursor = conn.cursor()\n",
    "# sql语句 建表\n",
    "sql =\"\"\"update student set name = %s where id = %s  \"\"\"\n",
    "params = ('alphazz',3,)\n",
    "# 执行语句\n",
    "cursor.execute(sql,params)\n",
    "# 事物提交\n",
    "conn.commit()\n",
    "# 关闭数据库连接\n",
    "cursor.close()\n",
    "conn.close()"
   ]
  },
  {
   "cell_type": "markdown",
   "metadata": {},
   "source": [
    "## 删除操作\n",
    "\n",
    "删除操作很简单，看如下代码，与之前的代码流程没什么区别；"
   ]
  },
  {
   "cell_type": "code",
   "execution_count": 10,
   "metadata": {},
   "outputs": [],
   "source": [
    "# -*- coding: utf-8 -*-\n",
    "import psycopg2\n",
    "# 获得连接\n",
    "conn = psycopg2.connect(database=\"python\", user=\"postgres\", password=\"password\", host=\"127.0.0.1\", port=\"8032\")\n",
    "# 获得游标对象，一个游标对象可以对数据库进行执行操作\n",
    "cursor = conn.cursor()\n",
    "# sql语句 建表\n",
    "sql =\"\"\"delete from  student where id = %s  \"\"\"\n",
    "params = (3,)\n",
    "# 执行语句\n",
    "cursor.execute(sql,params)\n",
    "# 事物提交\n",
    "conn.commit()\n",
    "# 关闭数据库连接\n",
    "cursor.close()\n",
    "conn.close()"
   ]
  },
  {
   "cell_type": "markdown",
   "metadata": {},
   "source": [
    "## 异常处理\n",
    "\n",
    "处理 sql 的异常非常重要，知识追寻者这边使用 psycopg2 的 Error 进行异常捕获，能捕获到sql 执行时期的所有异常；下面代码中表 test 是库中不存的表，执行sql后会报异常，经过异常捕获后非常美观，不影响程序运行；"
   ]
  },
  {
   "cell_type": "code",
   "execution_count": 11,
   "metadata": {},
   "outputs": [
    {
     "name": "stdout",
     "output_type": "stream",
     "text": [
      "relation \"test\" does not exist\n",
      "LINE 1: select * from test\n",
      "                      ^\n",
      "\n"
     ]
    }
   ],
   "source": [
    "# -*- coding: utf-8 -*-\n",
    "import psycopg2\n",
    "# 获得连接\n",
    "conn = psycopg2.connect(database=\"python\", user=\"postgres\", password=\"password\", host=\"127.0.0.1\", port=\"8032\")\n",
    "# 获得游标对象，一个游标对象可以对数据库进行执行操作\n",
    "cursor = conn.cursor()\n",
    "# sql语句 建表\n",
    "sql =\"\"\"select * from test\"\"\"\n",
    "params = (3,)\n",
    "try:\n",
    "    # 执行语句\n",
    "    cursor.execute(sql,params)\n",
    "except psycopg2.Error as e:\n",
    "    print(e)\n",
    "# 事物提交\n",
    "conn.commit()\n",
    "# 关闭数据库连接\n",
    "cursor.close()\n",
    "conn.close()"
   ]
  },
  {
   "cell_type": "markdown",
   "metadata": {},
   "source": [
    "# 打印sql\n",
    "\n",
    "使用cursor.query 可以查看执行的sql语句，方便排查；"
   ]
  },
  {
   "cell_type": "code",
   "execution_count": 12,
   "metadata": {},
   "outputs": [
    {
     "name": "stdout",
     "output_type": "stream",
     "text": [
      "b'select * from student'\n"
     ]
    }
   ],
   "source": [
    "# -*- coding: utf-8 -*-\n",
    "import psycopg2\n",
    "# 获得连接\n",
    "conn = psycopg2.connect(database=\"python\", user=\"postgres\", password=\"password\", host=\"127.0.0.1\", port=\"8032\")\n",
    "# 获得游标对象，一个游标对象可以对数据库进行执行操作\n",
    "cursor = conn.cursor()\n",
    "# sql语句 建表\n",
    "sql =\"\"\"select * from student\"\"\"\n",
    "try:\n",
    "    # 执行语句\n",
    "    cursor.execute(sql,)\n",
    "    que = cursor.query\n",
    "    print(que)\n",
    "except psycopg2.Error as e:\n",
    "    print(e)\n",
    "# 事物提交\n",
    "conn.commit()\n",
    "# 关闭数据库连接\n",
    "cursor.close()\n",
    "conn.close()"
   ]
  },
  {
   "cell_type": "markdown",
   "metadata": {},
   "source": [
    "## 获取总条数\n",
    "\n",
    "使用 cursor.rowcount 可以获得表中所有行总数；"
   ]
  },
  {
   "cell_type": "code",
   "execution_count": 13,
   "metadata": {},
   "outputs": [
    {
     "name": "stdout",
     "output_type": "stream",
     "text": [
      "2\n"
     ]
    }
   ],
   "source": [
    "# 获得连接\n",
    "conn = psycopg2.connect(database=\"python\", user=\"postgres\", password=\"password\", host=\"127.0.0.1\", port=\"8032\")\n",
    "# 获得游标对象，一个游标对象可以对数据库进行执行操作\n",
    "cursor = conn.cursor()\n",
    "# sql语句 建表\n",
    "sql =\"\"\"select * from student\"\"\"\n",
    "# 执行语句\n",
    "cursor.execute(sql)\n",
    "count = cursor.rowcount\n",
    "print(count)\n",
    "# 事物提交\n",
    "conn.commit()\n",
    "# 关闭数据库连接\n",
    "conn.close()"
   ]
  },
  {
   "cell_type": "markdown",
   "metadata": {},
   "source": [
    "# 显示行号\n",
    "\n",
    "使用 cursor.rownumber 可以显示当前查询sql获得数据的行号，每抓取一次光标的索引就会加1；"
   ]
  },
  {
   "cell_type": "code",
   "execution_count": 14,
   "metadata": {},
   "outputs": [
    {
     "name": "stdout",
     "output_type": "stream",
     "text": [
      "1\n",
      "2\n"
     ]
    }
   ],
   "source": [
    "# 获得连接\n",
    "conn = psycopg2.connect(database=\"python\", user=\"postgres\", password=\"password\", host=\"127.0.0.1\", port=\"8032\")\n",
    "# 获得游标对象，一个游标对象可以对数据库进行执行操作\n",
    "cursor = conn.cursor()\n",
    "# sql语句 建表\n",
    "sql =\"\"\"select * from student \"\"\"\n",
    "# 执行语句\n",
    "cursor.execute(sql)\n",
    "row_1 = cursor.fetchone()\n",
    "print(cursor.rownumber)\n",
    "row_2 = cursor.fetchone()\n",
    "print(cursor.rownumber)\n",
    "# 事物提交\n",
    "conn.commit()\n",
    "# 关闭数据库连接\n",
    "conn.close()"
   ]
  },
  {
   "cell_type": "markdown",
   "metadata": {},
   "source": [
    "## 显示执行参数\n",
    "\n",
    "使用 mogrify(operation[, parameters]) 能够显示执行语句的参数绑定结果，返回的是字符串形式；"
   ]
  },
  {
   "cell_type": "code",
   "execution_count": 15,
   "metadata": {},
   "outputs": [
    {
     "name": "stdout",
     "output_type": "stream",
     "text": [
      "INSERT INTO student (num, name) VALUES (102, 'alphazz')\n"
     ]
    }
   ],
   "source": [
    "# 获得连接\n",
    "conn = psycopg2.connect(database=\"python\", user=\"postgres\", password=\"password\", host=\"127.0.0.1\", port=\"8032\")\n",
    "# 获得游标对象，一个游标对象可以对数据库进行执行操作\n",
    "cursor = conn.cursor()\n",
    "# sql语句 建表\n",
    "sql =\"\"\"INSERT INTO student (num, name) VALUES (%s, %s)\"\"\"\n",
    "params = (102, 'alphazz')\n",
    "# 执行语句\n",
    "result = cursor.mogrify(sql,params)\n",
    "print(result.decode('UTF-8'))\n",
    "cursor.execute(sql,params)\n",
    "# 事物提交\n",
    "conn.commit()\n",
    "# 关闭数据库连接\n",
    "conn.close()\n"
   ]
  },
  {
   "cell_type": "markdown",
   "metadata": {},
   "source": [
    "## 附录\n",
    "支持默认的类型转换如下,如果想要使用强制类型转换，详细的可以参照pgsql官网手册；"
   ]
  },
  {
   "cell_type": "markdown",
   "metadata": {},
   "source": [
    "| Python | PostgreSQL |\n",
    "| -- | -- |\n",
    "| None | NULL |\n",
    "| bool | bool |\n",
    "| float | real，double |\n",
    "| int，long | smallint，integer，bigint |\n",
    "| Decimal | numeric |\n",
    "| str，unicode | varchar，text |\n",
    "| buffer，memoryview，bytearray，bytes，Buffer | protocol bytea |\n",
    "| date | date |\n",
    "| time | time,timetz |\n",
    "| datetime | timestamp,timestamptz |\n",
    "| timedelta | interval |\n",
    "| list | ARRAY |\n",
    "| tuple,namedtuple | Composite typesIN syntax |\n",
    "| dict | hstore |\n",
    "| Range | range |\n",
    "| UUID | uuid |\n",
    "| Anything | json |\n",
    "| ipaddress | inet |"
   ]
  }
 ],
 "metadata": {
  "interpreter": {
   "hash": "6869619afde5ccaa692f7f4d174735a0f86b1f7ceee086952855511b0b6edec0"
  },
  "kernelspec": {
   "display_name": "Python 3.8.11 ('py38')",
   "language": "python",
   "name": "python3"
  },
  "language_info": {
   "codemirror_mode": {
    "name": "ipython",
    "version": 3
   },
   "file_extension": ".py",
   "mimetype": "text/x-python",
   "name": "python",
   "nbconvert_exporter": "python",
   "pygments_lexer": "ipython3",
   "version": "3.8.11"
  },
  "orig_nbformat": 4
 },
 "nbformat": 4,
 "nbformat_minor": 2
}

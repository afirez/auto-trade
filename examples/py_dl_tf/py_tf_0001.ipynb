{
 "cells": [
  {
   "cell_type": "markdown",
   "metadata": {},
   "source": [
    "# Tensorflow "
   ]
  },
  {
   "cell_type": "markdown",
   "metadata": {},
   "source": [
    "## 基于 docker 的 GPU 环境搭建 \n",
    "\n",
    "```bash\n",
    "# 下载 NVIDIA 驱动\n",
    "# sudo bash NVIDIA-Linux-x86_64-410.104.run\n",
    "\n",
    "# 安装 docker-ce\n",
    "# 删除系统中已经安装的 Docker 相关系统\n",
    "sudo apt-get remove docker docker-engine docker-ce docker.io\n",
    "\n",
    "# 更新系统资源\n",
    "sudo apt-get update\n",
    "\n",
    "# 安装 Https 插件， 以便可以访问 HTTPS 资源\n",
    "sudo apt-get -y install apt-transport-https ca-certifications curl software-properties-common\n",
    "\n",
    "# 获取 Docker-ce 的资源密钥\n",
    "curl -fsSL http://mirrors.aliyun.com/docker-ce/linux/ubuntu/gpg | sudo apt-key add -\n",
    "\n",
    "# 将 docker-ce 的资源添加到 apt 库中\n",
    "sudo add-apt-repository \"deb[arch=amd64]http://mirrors.aliyun.com/ docker-ce/linux/ubuntu $(lsb_release -cs) stable\"\n",
    "\n",
    "# 更新系统资源\n",
    "sudo apt-get update\n",
    "\n",
    "sudo apt-get -y install docker-ce\n",
    "\n",
    "sudo apt-get -y purge nvidia-docker\n",
    "\n",
    "curl -s -L http://nvidia.github.io/nvidia-docker/gpgkey | sudo apt-key add -\n",
    "\n",
    "distribution=$(. /etc/os-release; echo $ID$VERSION_ID)\n",
    "\n",
    "curl -s -L http://nvidia.github.io/nvidia-docker/$distribution/nvidia-docker.list | sudo tee /etc/apt/sources.list.d/nvidia-docker.list\n",
    "\n",
    "sudo apt-get update\n",
    "\n",
    "sudo apt-get -y install nvidia-docker2\n",
    "\n",
    "reboot\n",
    "\n",
    "docker run --runtime=nvidia -it -rm tensorflow/tensorflow:latest-gpu \\\n",
    "python -c \"import tensorflow as tf;\n",
    "print(tf.reduce_sum(tf.random_normal([1000,1000])))\n",
    "\"\n",
    "\n",
    "```"
   ]
  },
  {
   "cell_type": "markdown",
   "metadata": {},
   "source": [
    "## Tensorflow 2.0 基础知识"
   ]
  },
  {
   "cell_type": "markdown",
   "metadata": {},
   "source": [
    "### Tensorflow 2.0 AutoGraph 简介\n",
    "\n",
    "tf.funtion 装饰器"
   ]
  },
  {
   "cell_type": "markdown",
   "metadata": {},
   "source": [
    "### Tensorflow 2.0 低阶 API 基础编程"
   ]
  },
  {
   "cell_type": "markdown",
   "metadata": {},
   "source": [
    "1. tf.constant"
   ]
  },
  {
   "cell_type": "code",
   "execution_count": 1,
   "metadata": {},
   "outputs": [
    {
     "data": {
      "text/plain": [
       "<tf.Tensor: shape=(), dtype=int32, numpy=7>"
      ]
     },
     "execution_count": 1,
     "metadata": {},
     "output_type": "execute_result"
    }
   ],
   "source": [
    "import tensorflow as tf\n",
    "\n",
    "a = tf.constant(7)\n",
    "\n",
    "a"
   ]
  },
  {
   "cell_type": "code",
   "execution_count": 2,
   "metadata": {},
   "outputs": [
    {
     "data": {
      "text/plain": [
       "7"
      ]
     },
     "execution_count": 2,
     "metadata": {},
     "output_type": "execute_result"
    }
   ],
   "source": [
    "a.numpy()"
   ]
  },
  {
   "cell_type": "markdown",
   "metadata": {},
   "source": [
    "2. tf.Variable"
   ]
  },
  {
   "cell_type": "code",
   "execution_count": 3,
   "metadata": {},
   "outputs": [
    {
     "data": {
      "text/plain": [
       "(7,\n",
       " <tf.Variable 'Variable:0' shape=() dtype=int32, numpy=7>,\n",
       " <tf.Variable 'Variable:0' shape=(3,) dtype=int32, numpy=array([0, 1, 2], dtype=int32)>)"
      ]
     },
     "execution_count": 3,
     "metadata": {},
     "output_type": "execute_result"
    }
   ],
   "source": [
    "import tensorflow as tf\n",
    "\n",
    "a1 = 7\n",
    "\n",
    "a2 = tf.Variable(7)\n",
    "\n",
    "a3 = tf.Variable([0, 1, 2])\n",
    "\n",
    "a1, a2, a3"
   ]
  },
  {
   "cell_type": "markdown",
   "metadata": {},
   "source": [
    "3. tf.reshape"
   ]
  },
  {
   "cell_type": "code",
   "execution_count": 5,
   "metadata": {},
   "outputs": [
    {
     "name": "stdout",
     "output_type": "stream",
     "text": [
      "(2, 3)\n",
      "(3, 2)\n"
     ]
    }
   ],
   "source": [
    "import tensorflow as tf\n",
    "\n",
    "a = tf.Variable([[0, 1, 2], [3, 4, 5]])\n",
    "\n",
    "print(a.shape)\n",
    "\n",
    "a1 = tf.reshape(a, [3, 2])\n",
    "print(a1.shape)"
   ]
  },
  {
   "cell_type": "markdown",
   "metadata": {},
   "source": [
    "4. tf.math.reduce_mean"
   ]
  },
  {
   "cell_type": "code",
   "execution_count": 6,
   "metadata": {},
   "outputs": [
    {
     "name": "stdout",
     "output_type": "stream",
     "text": [
      "<dtype: 'float32'>\n",
      "tf.Tensor(4.0, shape=(), dtype=float32)\n",
      "<dtype: 'int32'>\n",
      "tf.Tensor(3, shape=(), dtype=int32)\n"
     ]
    }
   ],
   "source": [
    "import tensorflow as tf\n",
    "\n",
    "a = tf.constant([1,2,3,4,5,6,7.])\n",
    "print(a.dtype)\n",
    "print(tf.math.reduce_mean(a))\n",
    "\n",
    "b = tf.constant([[1,2,1], [5,2,10]])\n",
    "print(b.dtype)\n",
    "print(tf.math.reduce_mean(b))\n"
   ]
  },
  {
   "cell_type": "markdown",
   "metadata": {},
   "source": [
    "5. tf.random.normal\n",
    "\n",
    "正态分布"
   ]
  },
  {
   "cell_type": "code",
   "execution_count": 7,
   "metadata": {},
   "outputs": [
    {
     "name": "stdout",
     "output_type": "stream",
     "text": [
      "[[2.864081   1.3214331  1.7592307 ]\n",
      " [2.5351386  0.04394543 1.2617177 ]]\n"
     ]
    }
   ],
   "source": [
    "import tensorflow as tf\n",
    "\n",
    "a = tf.random.normal(shape=[2, 3], mean=2)\n",
    "\n",
    "print(a.numpy())"
   ]
  },
  {
   "cell_type": "markdown",
   "metadata": {},
   "source": [
    "6. tf.random.uniform\n",
    "\n",
    "均匀分布"
   ]
  },
  {
   "cell_type": "code",
   "execution_count": 8,
   "metadata": {},
   "outputs": [
    {
     "name": "stdout",
     "output_type": "stream",
     "text": [
      "[[4 9 9]\n",
      " [6 4 9]]\n"
     ]
    }
   ],
   "source": [
    "import tensorflow as tf\n",
    "\n",
    "a = tf.random.uniform(shape=[2, 3], minval=1, maxval=10, seed=8, dtype=tf.int32)\n",
    "\n",
    "print(a.numpy())"
   ]
  },
  {
   "cell_type": "markdown",
   "metadata": {},
   "source": [
    "7. tf.transpose\n",
    "\n",
    "矩阵转置"
   ]
  },
  {
   "cell_type": "code",
   "execution_count": 9,
   "metadata": {},
   "outputs": [
    {
     "name": "stdout",
     "output_type": "stream",
     "text": [
      "[[[ 1  4]\n",
      "  [ 2  5]\n",
      "  [ 3  6]]\n",
      "\n",
      " [[ 7 10]\n",
      "  [ 8 11]\n",
      "  [ 9 12]]]\n"
     ]
    }
   ],
   "source": [
    "import tensorflow as tf\n",
    "\n",
    "x = tf.constant([ [[1, 2, 3], [4, 5, 6]], [[7,8,9], [10,11,12]] ])\n",
    "\n",
    "a = tf.transpose(x, perm=[0,2,1])\n",
    "\n",
    "print(a.numpy())"
   ]
  },
  {
   "cell_type": "markdown",
   "metadata": {},
   "source": [
    "8. tf.math.argmax\n",
    "\n",
    "数组内最大值索引"
   ]
  },
  {
   "cell_type": "code",
   "execution_count": 11,
   "metadata": {},
   "outputs": [
    {
     "name": "stdout",
     "output_type": "stream",
     "text": [
      "4\n"
     ]
    }
   ],
   "source": [
    "import tensorflow as tf\n",
    "\n",
    "a = tf.constant([1,2,3,4,5])\n",
    "\n",
    "x = tf.math.argmax(a)\n",
    "\n",
    "print(x.numpy())"
   ]
  },
  {
   "cell_type": "markdown",
   "metadata": {},
   "source": [
    "9. tf.expand_dims\n",
    "\n",
    "扩展纬度"
   ]
  },
  {
   "cell_type": "code",
   "execution_count": 12,
   "metadata": {},
   "outputs": [
    {
     "name": "stdout",
     "output_type": "stream",
     "text": [
      "()\n",
      "tf.Tensor(\n",
      "[[[1]\n",
      "  [2]\n",
      "  [3]]], shape=(1, 3, 1), dtype=int32)\n"
     ]
    }
   ],
   "source": [
    "import tensorflow as tf\n",
    "\n",
    "a = tf.constant([[1],[2],[3]])\n",
    "print(x.shape)\n",
    "b = tf.expand_dims(a, 0)\n",
    "\n",
    "print(b)"
   ]
  },
  {
   "cell_type": "markdown",
   "metadata": {},
   "source": [
    "10. tf.concat"
   ]
  },
  {
   "cell_type": "code",
   "execution_count": 13,
   "metadata": {},
   "outputs": [
    {
     "name": "stdout",
     "output_type": "stream",
     "text": [
      "[[2 3 4]\n",
      " [4 5 6]\n",
      " [2 3 4]\n",
      " [1 2 2]\n",
      " [6 7 9]\n",
      " [2 3 2]]\n"
     ]
    }
   ],
   "source": [
    "import tensorflow as tf\n",
    "\n",
    "a1 = tf.constant([[2, 3, 4], [4, 5, 6], [2, 3, 4]])\n",
    "a2 = tf.constant([[1, 2, 2], [6, 7, 9], [2, 3, 2]])\n",
    "\n",
    "b = tf.concat([a1, a2], axis=0)\n",
    "\n",
    "print(b.numpy())"
   ]
  },
  {
   "cell_type": "markdown",
   "metadata": {},
   "source": [
    "11. tf.bitcast\n",
    "\n",
    "数据类型转换"
   ]
  },
  {
   "cell_type": "code",
   "execution_count": 15,
   "metadata": {},
   "outputs": [
    {
     "name": "stdout",
     "output_type": "stream",
     "text": [
      "<dtype: 'float32'>\n",
      "<dtype: 'int32'>\n"
     ]
    }
   ],
   "source": [
    "import tensorflow as tf\n",
    "\n",
    "a = tf.constant(32.0)\n",
    "\n",
    "b = tf.bitcast(a, type=tf.int32)\n",
    "\n",
    "print(a.dtype)\n",
    "\n",
    "print(b.dtype)"
   ]
  }
 ],
 "metadata": {
  "interpreter": {
   "hash": "6869619afde5ccaa692f7f4d174735a0f86b1f7ceee086952855511b0b6edec0"
  },
  "kernelspec": {
   "display_name": "Python 3.8.11 ('py38')",
   "language": "python",
   "name": "python3"
  },
  "language_info": {
   "codemirror_mode": {
    "name": "ipython",
    "version": 3
   },
   "file_extension": ".py",
   "mimetype": "text/x-python",
   "name": "python",
   "nbconvert_exporter": "python",
   "pygments_lexer": "ipython3",
   "version": "3.8.11"
  },
  "orig_nbformat": 4
 },
 "nbformat": 4,
 "nbformat_minor": 2
}

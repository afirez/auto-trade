{
 "cells": [
  {
   "cell_type": "markdown",
   "metadata": {},
   "source": [
    "# TensorflowTTS 中文"
   ]
  },
  {
   "cell_type": "code",
   "execution_count": null,
   "metadata": {},
   "outputs": [],
   "source": [
    "# 1.安装 python3.7环境\n",
    "\n",
    "import os\n",
    "\n",
    "os.system(\"rm -rf TensorFlowTTS\")\n",
    "\n",
    "!git clone https://github.com/TensorSpeech/TensorFlowTTS.git\n",
    "\n",
    "os.chdir(\"TensorFlowTTS\")\n",
    "\n",
    "% !pip install .\n",
    "\n",
    "os.chdir(\"..\")\n",
    "\n",
    "import sys\n",
    "\n",
    "sys.path.append(\"TensorFlowTTS/\")"
   ]
  },
  {
   "cell_type": "code",
   "execution_count": null,
   "metadata": {},
   "outputs": [],
   "source": [
    "# 2.\n",
    "\n",
    "!pip3 install git+https://github.com/repodiac/german_transliterate.git \n",
    "#egg=german_transliterate\n",
    "\n",
    "!pip3 install h5py==2.10.0"
   ]
  },
  {
   "cell_type": "code",
   "execution_count": null,
   "metadata": {},
   "outputs": [],
   "source": [
    "# 3. Load Model\n",
    "\n",
    "import tensorflow as tf\n",
    "\n",
    "import yaml\n",
    "\n",
    "import numpy as np\n",
    "\n",
    "from tensorflow_tts.inference import AutoConfig\n",
    "\n",
    "from tensorflow_tts.inference import TFAutoModel\n",
    "\n",
    "from tensorflow_tts.inference import AutoProcessor"
   ]
  },
  {
   "cell_type": "code",
   "execution_count": null,
   "metadata": {},
   "outputs": [],
   "source": [
    "# 4.Tacotron2\n",
    "\n",
    "tacotron2 = TFAutoModel.from_pretrained(\"tensorspeech/tts-tacotron2-baker-ch\", name=\"tacotron2\")\n",
    "\n",
    "# FastSpeech2\n",
    "\n",
    "fastspeech2 = TFAutoModel.from_pretrained(\"tensorspeech/tts-fastspeech2-baker-ch\", name=\"fastspeech2\")\n",
    "\n",
    "# MB-MelGAN\n",
    "\n",
    "processor = AutoProcessor.from_pretrained(\"tensorspeech/tts-tacotron2-baker-ch\")\n",
    "\n",
    "input_ids = processor.text_to_sequence(\"这是一个开源的端到端中文语音合成系统,我喜欢你哦\", inference=True)\n",
    " \n",
    "\n",
    "_, mel_outputs, stop_token_prediction, alignment_history = tacotron2.inference(\n",
    "    tf.expand_dims(tf.convert_to_tensor(input_ids, dtype=tf.int32), 0),  \n",
    "    tf.convert_to_tensor([len(input_ids)], tf.int32),   \n",
    "    tf.convert_to_tensor([0], dtype=tf.int32)  \n",
    ")\n",
    "\n",
    "remove_end = 1024\n",
    "audio = mb_melgan.inference(mel_outputs)[0, :-remove_end, 0]\n",
    "\n",
    "import soundfile\n",
    "soundfile.write('test.wav',audio.numpy(),24000)"
   ]
  }
 ],
 "metadata": {
  "interpreter": {
   "hash": "6869619afde5ccaa692f7f4d174735a0f86b1f7ceee086952855511b0b6edec0"
  },
  "kernelspec": {
   "display_name": "Python 3.8.11 ('py38')",
   "language": "python",
   "name": "python3"
  },
  "language_info": {
   "name": "python",
   "version": "3.8.11"
  },
  "orig_nbformat": 4
 },
 "nbformat": 4,
 "nbformat_minor": 2
}

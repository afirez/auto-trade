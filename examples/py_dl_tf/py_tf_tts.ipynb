{
 "cells": [
  {
   "cell_type": "markdown",
   "metadata": {},
   "source": [
    "# Mozilla TTS"
   ]
  },
  {
   "cell_type": "markdown",
   "metadata": {},
   "source": [
    "## pip3 install\n",
    "\n",
    "```bash\n",
    "pip install TTS -i https://pypi.tuna.tsinghua.edu.cn/simple\n",
    "\n",
    "tts --text \"可以的亲虽然有点bug\" \\\n",
    "--model_name \"tts_models/zh-CN/baker/tacotron2-DDC-GST\" \\\n",
    "--vocoder_name \"vocoder_models/universal/libri-tts/fullband-melgan\" \\\n",
    "--out_path xx.wav\n",
    "```"
   ]
  }
 ],
 "metadata": {
  "language_info": {
   "name": "python"
  },
  "orig_nbformat": 4
 },
 "nbformat": 4,
 "nbformat_minor": 2
}

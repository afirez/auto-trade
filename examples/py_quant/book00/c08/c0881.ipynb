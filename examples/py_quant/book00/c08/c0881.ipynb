{
 "cells": [
  {
   "cell_type": "markdown",
   "metadata": {},
   "source": [
    "# 8 神经网络 -- 曾入“冷宫”，如今得宠"
   ]
  },
  {
   "cell_type": "markdown",
   "metadata": {},
   "source": [
    "## 8.1 神经网络的前世今生"
   ]
  },
  {
   "cell_type": "markdown",
   "metadata": {},
   "source": [
    "### 8.1.1 神经网络的起源"
   ]
  },
  {
   "cell_type": "markdown",
   "metadata": {},
   "source": [
    "### 8.1.2 第一个感知器学习法则"
   ]
  },
  {
   "cell_type": "markdown",
   "metadata": {},
   "source": [
    "1958 年，著名的计算机科学家弗兰克-罗森布拉特（Frank Rossenblatt）基于 M-P 模型提出了第一个感知器学习法则，\n",
    "\n",
    "他的感知器由两层神经元组成神经网络，是世界上首个可以学习的人工神经网络，而且已经可以进行简单的图像识别，\n",
    "\n",
    "这在当时的社会可是引起了轩然大波。 人们都以为发现了智能的奥秘，甚至美国军方认为神经网络比原子弹工程更重要，\n",
    "\n",
    "并大力资助神经网络的研究。\n",
    "\n",
    "但好景不长，到了 1969 年，另一位计算机领域的大牛马文-明斯基（Marvin Minsky） 出版了 pertron 的一书，\n",
    "\n",
    "书中阐述了感知器的弱点，单层感知器对很多简单的任务都无法完成，而双层感知器又对计算能力的要求过高\n",
    "\n",
    "（当时的计算能力远远达不到今天的水平），而且没有有效的学习算法。\n",
    "\n",
    "结论是研究更深层的神经网络没有意义。 明斯基的论述让神经网络的研究陷入低谷，这也是被大家称为 “AI winter” 的人工智能冰河期。"
   ]
  }
 ],
 "metadata": {
  "interpreter": {
   "hash": "6869619afde5ccaa692f7f4d174735a0f86b1f7ceee086952855511b0b6edec0"
  },
  "kernelspec": {
   "display_name": "Python 3.8.11 ('py38')",
   "language": "python",
   "name": "python3"
  },
  "language_info": {
   "name": "python",
   "version": "3.8.11"
  },
  "orig_nbformat": 4
 },
 "nbformat": 4,
 "nbformat_minor": 2
}

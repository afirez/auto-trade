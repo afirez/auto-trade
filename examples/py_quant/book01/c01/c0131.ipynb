{
 "cells": [
  {
   "cell_type": "markdown",
   "id": "8e3f0590",
   "metadata": {},
   "source": [
    "# 1.3.1 Anaconda 的下载和安装\n",
    "\n",
    "- Mac\n",
    "- Anaconda， Jupyter Notebook， JupyterLab\n",
    "- VSCode， Git"
   ]
  }
 ],
 "metadata": {
  "interpreter": {
   "hash": "6869619afde5ccaa692f7f4d174735a0f86b1f7ceee086952855511b0b6edec0"
  },
  "kernelspec": {
   "display_name": "Python 3.8.11 ('py38')",
   "language": "python",
   "name": "python3"
  },
  "language_info": {
   "codemirror_mode": {
    "name": "ipython",
    "version": 3
   },
   "file_extension": ".py",
   "mimetype": "text/x-python",
   "name": "python",
   "nbconvert_exporter": "python",
   "pygments_lexer": "ipython3",
   "version": "3.8.11"
  }
 },
 "nbformat": 4,
 "nbformat_minor": 5
}

{
 "cells": [
  {
   "cell_type": "markdown",
   "id": "04c43ef9",
   "metadata": {},
   "source": [
    "# 1.3.2 Jupyter Notebook 的基本使用方法"
   ]
  },
  {
   "cell_type": "code",
   "execution_count": 1,
   "id": "6b1c878c",
   "metadata": {},
   "outputs": [
    {
     "name": "stdout",
     "output_type": "stream",
     "text": [
      "小瓦加油！ 你会成功的\n"
     ]
    }
   ],
   "source": [
    "print(\"小瓦加油！ 你会成功的\")"
   ]
  }
 ],
 "metadata": {
  "interpreter": {
   "hash": "6869619afde5ccaa692f7f4d174735a0f86b1f7ceee086952855511b0b6edec0"
  },
  "kernelspec": {
   "display_name": "Python 3.8.11 ('py38')",
   "language": "python",
   "name": "python3"
  },
  "language_info": {
   "codemirror_mode": {
    "name": "ipython",
    "version": 3
   },
   "file_extension": ".py",
   "mimetype": "text/x-python",
   "name": "python",
   "nbconvert_exporter": "python",
   "pygments_lexer": "ipython3",
   "version": "3.8.11"
  }
 },
 "nbformat": 4,
 "nbformat_minor": 5
}

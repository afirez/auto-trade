{
 "cells": [
  {
   "cell_type": "markdown",
   "id": "b0d43a01",
   "metadata": {},
   "source": [
    "# 1.3.3 用真实股票数据练练手"
   ]
  },
  {
   "cell_type": "markdown",
   "id": "b21c5945",
   "metadata": {},
   "source": [
    "获取金融数据的一个库"
   ]
  },
  {
   "cell_type": "code",
   "execution_count": 1,
   "id": "22df37a2",
   "metadata": {},
   "outputs": [
    {
     "name": "stdout",
     "output_type": "stream",
     "text": [
      "Collecting pandas_datareader\n",
      "  Downloading pandas_datareader-0.10.0-py3-none-any.whl (109 kB)\n",
      "\u001b[K     |████████████████████████████████| 109 kB 1.6 MB/s eta 0:00:01\n",
      "\u001b[?25hCollecting lxml\n",
      "  Downloading lxml-4.8.0-cp38-cp38-macosx_10_14_x86_64.whl (4.5 MB)\n",
      "\u001b[K     |████████████████████████████████| 4.5 MB 6.6 MB/s eta 0:00:01\n",
      "\u001b[?25hRequirement already satisfied: requests>=2.19.0 in /usr/local/anaconda3/envs/py38/lib/python3.8/site-packages (from pandas_datareader) (2.26.0)\n",
      "Requirement already satisfied: pandas>=0.23 in /usr/local/anaconda3/envs/py38/lib/python3.8/site-packages (from pandas_datareader) (1.3.1)\n",
      "Requirement already satisfied: pytz>=2017.3 in /usr/local/anaconda3/envs/py38/lib/python3.8/site-packages (from pandas>=0.23->pandas_datareader) (2021.1)\n",
      "Requirement already satisfied: python-dateutil>=2.7.3 in /usr/local/anaconda3/envs/py38/lib/python3.8/site-packages (from pandas>=0.23->pandas_datareader) (2.8.2)\n",
      "Requirement already satisfied: numpy>=1.17.3 in /usr/local/anaconda3/envs/py38/lib/python3.8/site-packages (from pandas>=0.23->pandas_datareader) (1.19.5)\n",
      "Requirement already satisfied: six>=1.5 in /usr/local/anaconda3/envs/py38/lib/python3.8/site-packages (from python-dateutil>=2.7.3->pandas>=0.23->pandas_datareader) (1.15.0)\n",
      "Requirement already satisfied: urllib3<1.27,>=1.21.1 in /usr/local/anaconda3/envs/py38/lib/python3.8/site-packages (from requests>=2.19.0->pandas_datareader) (1.26.6)\n",
      "Requirement already satisfied: idna<4,>=2.5 in /usr/local/anaconda3/envs/py38/lib/python3.8/site-packages (from requests>=2.19.0->pandas_datareader) (3.2)\n",
      "Requirement already satisfied: certifi>=2017.4.17 in /usr/local/anaconda3/envs/py38/lib/python3.8/site-packages (from requests>=2.19.0->pandas_datareader) (2021.5.30)\n",
      "Requirement already satisfied: charset-normalizer~=2.0.0 in /usr/local/anaconda3/envs/py38/lib/python3.8/site-packages (from requests>=2.19.0->pandas_datareader) (2.0.4)\n",
      "Installing collected packages: lxml, pandas-datareader\n",
      "Successfully installed lxml-4.8.0 pandas-datareader-0.10.0\n"
     ]
    }
   ],
   "source": [
    "!pip3 install pandas_datareader --upgrade"
   ]
  },
  {
   "cell_type": "markdown",
   "id": "42e37437",
   "metadata": {},
   "source": [
    "检查 datareader 是否安装成功"
   ]
  },
  {
   "cell_type": "code",
   "execution_count": 2,
   "id": "ac620d8d",
   "metadata": {},
   "outputs": [
    {
     "data": {
      "text/plain": [
       "'0.10.0'"
      ]
     },
     "execution_count": 2,
     "metadata": {},
     "output_type": "execute_result"
    }
   ],
   "source": [
    "# 导入 datareader 并重命名为 web\n",
    "import pandas_datareader as web\n",
    "\n",
    "# 查看 datareader 的版本信息\n",
    "web.__version__"
   ]
  },
  {
   "cell_type": "markdown",
   "id": "91fa934f",
   "metadata": {},
   "source": [
    "1. 下载股票数据"
   ]
  },
  {
   "cell_type": "code",
   "execution_count": 3,
   "id": "4cc18d20",
   "metadata": {},
   "outputs": [
    {
     "data": {
      "text/html": [
       "<div>\n",
       "<style scoped>\n",
       "    .dataframe tbody tr th:only-of-type {\n",
       "        vertical-align: middle;\n",
       "    }\n",
       "\n",
       "    .dataframe tbody tr th {\n",
       "        vertical-align: top;\n",
       "    }\n",
       "\n",
       "    .dataframe thead th {\n",
       "        text-align: right;\n",
       "    }\n",
       "</style>\n",
       "<table border=\"1\" class=\"dataframe\">\n",
       "  <thead>\n",
       "    <tr style=\"text-align: right;\">\n",
       "      <th></th>\n",
       "      <th>High</th>\n",
       "      <th>Low</th>\n",
       "      <th>Open</th>\n",
       "      <th>Close</th>\n",
       "      <th>Volume</th>\n",
       "      <th>Adj Close</th>\n",
       "    </tr>\n",
       "    <tr>\n",
       "      <th>Date</th>\n",
       "      <th></th>\n",
       "      <th></th>\n",
       "      <th></th>\n",
       "      <th></th>\n",
       "      <th></th>\n",
       "      <th></th>\n",
       "    </tr>\n",
       "  </thead>\n",
       "  <tbody>\n",
       "    <tr>\n",
       "      <th>2022-01-04</th>\n",
       "      <td>51.060001</td>\n",
       "      <td>50.099998</td>\n",
       "      <td>50.400002</td>\n",
       "      <td>51.000000</td>\n",
       "      <td>63583763</td>\n",
       "      <td>51.000000</td>\n",
       "    </tr>\n",
       "    <tr>\n",
       "      <th>2022-01-05</th>\n",
       "      <td>52.400002</td>\n",
       "      <td>50.970001</td>\n",
       "      <td>51.110001</td>\n",
       "      <td>52.070000</td>\n",
       "      <td>118124669</td>\n",
       "      <td>52.070000</td>\n",
       "    </tr>\n",
       "    <tr>\n",
       "      <th>2022-01-06</th>\n",
       "      <td>52.020000</td>\n",
       "      <td>51.220001</td>\n",
       "      <td>51.990002</td>\n",
       "      <td>51.299999</td>\n",
       "      <td>66165825</td>\n",
       "      <td>51.299999</td>\n",
       "    </tr>\n",
       "    <tr>\n",
       "      <th>2022-01-07</th>\n",
       "      <td>53.330002</td>\n",
       "      <td>51.450001</td>\n",
       "      <td>51.490002</td>\n",
       "      <td>52.939999</td>\n",
       "      <td>123075974</td>\n",
       "      <td>52.939999</td>\n",
       "    </tr>\n",
       "    <tr>\n",
       "      <th>2022-01-10</th>\n",
       "      <td>53.560001</td>\n",
       "      <td>52.500000</td>\n",
       "      <td>52.990002</td>\n",
       "      <td>53.080002</td>\n",
       "      <td>76113442</td>\n",
       "      <td>53.080002</td>\n",
       "    </tr>\n",
       "  </tbody>\n",
       "</table>\n",
       "</div>"
      ],
      "text/plain": [
       "                 High        Low       Open      Close     Volume  Adj Close\n",
       "Date                                                                        \n",
       "2022-01-04  51.060001  50.099998  50.400002  51.000000   63583763  51.000000\n",
       "2022-01-05  52.400002  50.970001  51.110001  52.070000  118124669  52.070000\n",
       "2022-01-06  52.020000  51.220001  51.990002  51.299999   66165825  51.299999\n",
       "2022-01-07  53.330002  51.450001  51.490002  52.939999  123075974  52.939999\n",
       "2022-01-10  53.560001  52.500000  52.990002  53.080002   76113442  53.080002"
      ]
     },
     "execution_count": 3,
     "metadata": {},
     "output_type": "execute_result"
    }
   ],
   "source": [
    "# 指定获取股票数据的起始日期和截止日期\n",
    "# 这里就用 2022年1月1日至2022年2月18日\n",
    "start_date = '2022-01-01'\n",
    "end_date = '2022-02-18'\n",
    "\n",
    "# 创建数据集，这里选择下载的股票代码为 601318\n",
    "# 数据源设置为 yahoo\n",
    "data = web.data.DataReader('601318.ss', 'yahoo', start_date, end_date)\n",
    "\n",
    "# 来检查一下数据表的前 5 行\n",
    "data.head()"
   ]
  },
  {
   "cell_type": "markdown",
   "id": "9eb38774",
   "metadata": {},
   "source": [
    "2. 最简单的数据处理"
   ]
  },
  {
   "cell_type": "code",
   "execution_count": 4,
   "id": "a0ba8ee5",
   "metadata": {},
   "outputs": [
    {
     "data": {
      "text/html": [
       "<div>\n",
       "<style scoped>\n",
       "    .dataframe tbody tr th:only-of-type {\n",
       "        vertical-align: middle;\n",
       "    }\n",
       "\n",
       "    .dataframe tbody tr th {\n",
       "        vertical-align: top;\n",
       "    }\n",
       "\n",
       "    .dataframe thead th {\n",
       "        text-align: right;\n",
       "    }\n",
       "</style>\n",
       "<table border=\"1\" class=\"dataframe\">\n",
       "  <thead>\n",
       "    <tr style=\"text-align: right;\">\n",
       "      <th></th>\n",
       "      <th>High</th>\n",
       "      <th>Low</th>\n",
       "      <th>Open</th>\n",
       "      <th>Close</th>\n",
       "      <th>Volume</th>\n",
       "      <th>Adj Close</th>\n",
       "      <th>diff</th>\n",
       "    </tr>\n",
       "    <tr>\n",
       "      <th>Date</th>\n",
       "      <th></th>\n",
       "      <th></th>\n",
       "      <th></th>\n",
       "      <th></th>\n",
       "      <th></th>\n",
       "      <th></th>\n",
       "      <th></th>\n",
       "    </tr>\n",
       "  </thead>\n",
       "  <tbody>\n",
       "    <tr>\n",
       "      <th>2022-01-04</th>\n",
       "      <td>51.060001</td>\n",
       "      <td>50.099998</td>\n",
       "      <td>50.400002</td>\n",
       "      <td>51.000000</td>\n",
       "      <td>63583763</td>\n",
       "      <td>51.000000</td>\n",
       "      <td>NaN</td>\n",
       "    </tr>\n",
       "    <tr>\n",
       "      <th>2022-01-05</th>\n",
       "      <td>52.400002</td>\n",
       "      <td>50.970001</td>\n",
       "      <td>51.110001</td>\n",
       "      <td>52.070000</td>\n",
       "      <td>118124669</td>\n",
       "      <td>52.070000</td>\n",
       "      <td>1.070000</td>\n",
       "    </tr>\n",
       "    <tr>\n",
       "      <th>2022-01-06</th>\n",
       "      <td>52.020000</td>\n",
       "      <td>51.220001</td>\n",
       "      <td>51.990002</td>\n",
       "      <td>51.299999</td>\n",
       "      <td>66165825</td>\n",
       "      <td>51.299999</td>\n",
       "      <td>-0.770000</td>\n",
       "    </tr>\n",
       "    <tr>\n",
       "      <th>2022-01-07</th>\n",
       "      <td>53.330002</td>\n",
       "      <td>51.450001</td>\n",
       "      <td>51.490002</td>\n",
       "      <td>52.939999</td>\n",
       "      <td>123075974</td>\n",
       "      <td>52.939999</td>\n",
       "      <td>1.639999</td>\n",
       "    </tr>\n",
       "    <tr>\n",
       "      <th>2022-01-10</th>\n",
       "      <td>53.560001</td>\n",
       "      <td>52.500000</td>\n",
       "      <td>52.990002</td>\n",
       "      <td>53.080002</td>\n",
       "      <td>76113442</td>\n",
       "      <td>53.080002</td>\n",
       "      <td>0.140003</td>\n",
       "    </tr>\n",
       "  </tbody>\n",
       "</table>\n",
       "</div>"
      ],
      "text/plain": [
       "                 High        Low       Open      Close     Volume  Adj Close  \\\n",
       "Date                                                                           \n",
       "2022-01-04  51.060001  50.099998  50.400002  51.000000   63583763  51.000000   \n",
       "2022-01-05  52.400002  50.970001  51.110001  52.070000  118124669  52.070000   \n",
       "2022-01-06  52.020000  51.220001  51.990002  51.299999   66165825  51.299999   \n",
       "2022-01-07  53.330002  51.450001  51.490002  52.939999  123075974  52.939999   \n",
       "2022-01-10  53.560001  52.500000  52.990002  53.080002   76113442  53.080002   \n",
       "\n",
       "                diff  \n",
       "Date                  \n",
       "2022-01-04       NaN  \n",
       "2022-01-05  1.070000  \n",
       "2022-01-06 -0.770000  \n",
       "2022-01-07  1.639999  \n",
       "2022-01-10  0.140003  "
      ]
     },
     "execution_count": 4,
     "metadata": {},
     "output_type": "execute_result"
    }
   ],
   "source": [
    "# 2022-01-05 的收盘价（Close）为 52.07\n",
    "# 2022-01-04 的收盘价（Close）为 51.00\n",
    "# 该股票较前一日上涨了 1.07 元\n",
    "# 这样的话可以在数据表中添加一个字段，用来表示当日股价较前一日的变化\n",
    "\n",
    "# 将新字段命名为 diff，代表diffrence\n",
    "# 用 diff() 方法计算每日股价变化情况\n",
    "data['diff'] = data['Close'].diff()\n",
    "\n",
    "# 来检查一下前 5 行\n",
    "data.head()"
   ]
  },
  {
   "cell_type": "markdown",
   "id": "cf830e9e",
   "metadata": {},
   "source": [
    "3. 设计最简单的交易策略"
   ]
  },
  {
   "cell_type": "code",
   "execution_count": null,
   "id": "9a203069",
   "metadata": {},
   "outputs": [],
   "source": [
    "# 到这里，小瓦提出了一个简单的问题。\n",
    "# 我们可以设置一个最简单的交易策略：\n",
    "# 如果当日股价下跌，我们就在下一个交易日开盘前挂单买入；\n",
    "# 反之如果当日股价上涨，我们就在下一个交易日开盘前挂单卖出。\n",
    "# 循环进行这个步骤，我们不就可以赚钱了吗？"
   ]
  }
 ],
 "metadata": {
  "interpreter": {
   "hash": "6869619afde5ccaa692f7f4d174735a0f86b1f7ceee086952855511b0b6edec0"
  },
  "kernelspec": {
   "display_name": "Python 3.8.11 ('py38')",
   "language": "python",
   "name": "python3"
  },
  "language_info": {
   "codemirror_mode": {
    "name": "ipython",
    "version": 3
   },
   "file_extension": ".py",
   "mimetype": "text/x-python",
   "name": "python",
   "nbconvert_exporter": "python",
   "pygments_lexer": "ipython3",
   "version": "3.8.11"
  }
 },
 "nbformat": 4,
 "nbformat_minor": 5
}

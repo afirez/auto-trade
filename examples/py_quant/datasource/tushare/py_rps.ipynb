{
 "cells": [
  {
   "cell_type": "markdown",
   "metadata": {},
   "source": [
    "# 如何利用欧奈尔的RPS寻找强势股？"
   ]
  },
  {
   "cell_type": "code",
   "execution_count": 1,
   "metadata": {},
   "outputs": [],
   "source": [
    "#先引入后面可能用到的library\n",
    "import pandas as pd  \n",
    "import tushare as ts \n",
    "import matplotlib.pyplot as plt\n",
    "%matplotlib inline   \n",
    "\n",
    "#正常显示画图时出现的中文和负号\n",
    "from pylab import mpl\n",
    "mpl.rcParams['font.sans-serif']=['SimHei']\n",
    "mpl.rcParams['axes.unicode_minus']=False\n",
    "\n",
    "import json\n",
    "from pathlib import Path\n",
    "\n",
    "\"\"\"\n",
    "{\n",
    "    \"tushare_token\": \"\"\n",
    "}\n",
    "\"\"\"\n",
    "source_path = Path(\"./py_assets_data_config.json\")\n",
    "configs = json.loads(source_path.read_text())\n",
    "#设置token\n",
    "\n",
    "# token='你的token'\n",
    "token = configs['tushare_token']\n",
    "ts.set_token(token)\n",
    "pro=ts.pro_api()"
   ]
  },
  {
   "cell_type": "markdown",
   "metadata": {},
   "source": [
    "数据来源于tushare，首先使用stock_basic获取当前交易日的所有股票代码。\n",
    "\n",
    "截至2022年4月9日，一共有3594只股票。"
   ]
  },
  {
   "cell_type": "code",
   "execution_count": 2,
   "metadata": {},
   "outputs": [
    {
     "name": "stdout",
     "output_type": "stream",
     "text": [
      "4772\n"
     ]
    }
   ],
   "source": [
    "df = pro.stock_basic(exchange='', list_status='L', \n",
    "    fields='ts_code,symbol,name,area,industry,list_date')\n",
    "print(len(df))"
   ]
  },
  {
   "cell_type": "markdown",
   "metadata": {},
   "source": [
    "考虑到A股新股上市交易的情况，上市后前一段时间往往会一字涨停，然后出现下跌调整。\n",
    "\n",
    "为了剔除新股次新股的影响，这里选择2017年1月1日前上市的股票作为分析样本，共得到3024只股票。"
   ]
  },
  {
   "cell_type": "code",
   "execution_count": 3,
   "metadata": {},
   "outputs": [],
   "source": [
    "#排除掉新股次新股，这里是只考虑2021年1月1日以前上市的股票\n",
    "df=df[df['list_date'].apply(int).values<20210101]\n",
    "len(df)\n",
    "#输出结果：3024\n",
    "#获取当前所有非新股次新股代码和名称\n",
    "codes=df.ts_code.values\n",
    "names=df.name.values\n",
    "#构建一个字典方便调用\n",
    "code_name=dict(zip(names,codes))\n",
    "\n",
    "#使用tushare获取上述股票周价格数据并转换为周收益率\n",
    "#设定默认起始日期为2021年2月7日，结束日期为2022年4月9日\n",
    "#日期可以根据需要自己改动\n",
    "def get_data(code,start='20210207', end='20220409'):\n",
    "    df=pro.daily(ts_code=code, start_date=start, end_date=end,fields='trade_date,close')\n",
    "    #将交易日期设置为索引值\n",
    "    df.index=pd.to_datetime(df.trade_date)\n",
    "    df=df.sort_index()\n",
    "    #计算收益率\n",
    "    return df.close"
   ]
  },
  {
   "cell_type": "markdown",
   "metadata": {},
   "source": [
    "通过定义的函数获取上述3024只股票自2021年2月7日以来的所有日交易数据，并计算每只股票120日滚动收益率。"
   ]
  },
  {
   "cell_type": "code",
   "execution_count": 4,
   "metadata": {},
   "outputs": [
    {
     "name": "stderr",
     "output_type": "stream",
     "text": [
      "<ipython-input-4-f401a2d5143a>:4: PerformanceWarning: DataFrame is highly fragmented.  This is usually the result of calling `frame.insert` many times, which has poor performance.  Consider using pd.concat instead.  To get a de-fragmented frame, use `newframe = frame.copy()`\n",
      "  data[name]=get_data(code)\n"
     ]
    },
    {
     "ename": "Exception",
     "evalue": "抱歉，您每分钟最多访问该接口500次，权限的具体详情访问：https://tushare.pro/document/1?doc_id=108。",
     "output_type": "error",
     "traceback": [
      "\u001b[0;31m---------------------------------------------------------------------------\u001b[0m",
      "\u001b[0;31mException\u001b[0m                                 Traceback (most recent call last)",
      "\u001b[0;32m<ipython-input-4-f401a2d5143a>\u001b[0m in \u001b[0;36m<module>\u001b[0;34m\u001b[0m\n\u001b[1;32m      2\u001b[0m \u001b[0mdata\u001b[0m\u001b[0;34m=\u001b[0m\u001b[0mpd\u001b[0m\u001b[0;34m.\u001b[0m\u001b[0mDataFrame\u001b[0m\u001b[0;34m(\u001b[0m\u001b[0;34m)\u001b[0m\u001b[0;34m\u001b[0m\u001b[0;34m\u001b[0m\u001b[0m\n\u001b[1;32m      3\u001b[0m \u001b[0;32mfor\u001b[0m \u001b[0mname\u001b[0m\u001b[0;34m,\u001b[0m\u001b[0mcode\u001b[0m \u001b[0;32min\u001b[0m \u001b[0mcode_name\u001b[0m\u001b[0;34m.\u001b[0m\u001b[0mitems\u001b[0m\u001b[0;34m(\u001b[0m\u001b[0;34m)\u001b[0m\u001b[0;34m:\u001b[0m\u001b[0;34m\u001b[0m\u001b[0;34m\u001b[0m\u001b[0m\n\u001b[0;32m----> 4\u001b[0;31m    \u001b[0mdata\u001b[0m\u001b[0;34m[\u001b[0m\u001b[0mname\u001b[0m\u001b[0;34m]\u001b[0m\u001b[0;34m=\u001b[0m\u001b[0mget_data\u001b[0m\u001b[0;34m(\u001b[0m\u001b[0mcode\u001b[0m\u001b[0;34m)\u001b[0m\u001b[0;34m\u001b[0m\u001b[0;34m\u001b[0m\u001b[0m\n\u001b[0m\u001b[1;32m      5\u001b[0m \u001b[0;34m\u001b[0m\u001b[0m\n\u001b[1;32m      6\u001b[0m \u001b[0;31m#data.to_csv('daily_data.csv',encoding='gbk')\u001b[0m\u001b[0;34m\u001b[0m\u001b[0;34m\u001b[0m\u001b[0;34m\u001b[0m\u001b[0m\n",
      "\u001b[0;32m<ipython-input-3-e0efee01c0d2>\u001b[0m in \u001b[0;36mget_data\u001b[0;34m(code, start, end)\u001b[0m\n\u001b[1;32m     13\u001b[0m \u001b[0;31m#日期可以根据需要自己改动\u001b[0m\u001b[0;34m\u001b[0m\u001b[0;34m\u001b[0m\u001b[0;34m\u001b[0m\u001b[0m\n\u001b[1;32m     14\u001b[0m \u001b[0;32mdef\u001b[0m \u001b[0mget_data\u001b[0m\u001b[0;34m(\u001b[0m\u001b[0mcode\u001b[0m\u001b[0;34m,\u001b[0m\u001b[0mstart\u001b[0m\u001b[0;34m=\u001b[0m\u001b[0;34m'20210207'\u001b[0m\u001b[0;34m,\u001b[0m \u001b[0mend\u001b[0m\u001b[0;34m=\u001b[0m\u001b[0;34m'20220409'\u001b[0m\u001b[0;34m)\u001b[0m\u001b[0;34m:\u001b[0m\u001b[0;34m\u001b[0m\u001b[0;34m\u001b[0m\u001b[0m\n\u001b[0;32m---> 15\u001b[0;31m     \u001b[0mdf\u001b[0m\u001b[0;34m=\u001b[0m\u001b[0mpro\u001b[0m\u001b[0;34m.\u001b[0m\u001b[0mdaily\u001b[0m\u001b[0;34m(\u001b[0m\u001b[0mts_code\u001b[0m\u001b[0;34m=\u001b[0m\u001b[0mcode\u001b[0m\u001b[0;34m,\u001b[0m \u001b[0mstart_date\u001b[0m\u001b[0;34m=\u001b[0m\u001b[0mstart\u001b[0m\u001b[0;34m,\u001b[0m \u001b[0mend_date\u001b[0m\u001b[0;34m=\u001b[0m\u001b[0mend\u001b[0m\u001b[0;34m,\u001b[0m\u001b[0mfields\u001b[0m\u001b[0;34m=\u001b[0m\u001b[0;34m'trade_date,close'\u001b[0m\u001b[0;34m)\u001b[0m\u001b[0;34m\u001b[0m\u001b[0;34m\u001b[0m\u001b[0m\n\u001b[0m\u001b[1;32m     16\u001b[0m     \u001b[0;31m#将交易日期设置为索引值\u001b[0m\u001b[0;34m\u001b[0m\u001b[0;34m\u001b[0m\u001b[0;34m\u001b[0m\u001b[0m\n\u001b[1;32m     17\u001b[0m     \u001b[0mdf\u001b[0m\u001b[0;34m.\u001b[0m\u001b[0mindex\u001b[0m\u001b[0;34m=\u001b[0m\u001b[0mpd\u001b[0m\u001b[0;34m.\u001b[0m\u001b[0mto_datetime\u001b[0m\u001b[0;34m(\u001b[0m\u001b[0mdf\u001b[0m\u001b[0;34m.\u001b[0m\u001b[0mtrade_date\u001b[0m\u001b[0;34m)\u001b[0m\u001b[0;34m\u001b[0m\u001b[0;34m\u001b[0m\u001b[0m\n",
      "\u001b[0;32m/usr/local/anaconda3/envs/py38/lib/python3.8/site-packages/tushare/pro/client.py\u001b[0m in \u001b[0;36mquery\u001b[0;34m(self, api_name, fields, **kwargs)\u001b[0m\n\u001b[1;32m     42\u001b[0m             \u001b[0mresult\u001b[0m \u001b[0;34m=\u001b[0m \u001b[0mjson\u001b[0m\u001b[0;34m.\u001b[0m\u001b[0mloads\u001b[0m\u001b[0;34m(\u001b[0m\u001b[0mres\u001b[0m\u001b[0;34m.\u001b[0m\u001b[0mtext\u001b[0m\u001b[0;34m)\u001b[0m\u001b[0;34m\u001b[0m\u001b[0;34m\u001b[0m\u001b[0m\n\u001b[1;32m     43\u001b[0m             \u001b[0;32mif\u001b[0m \u001b[0mresult\u001b[0m\u001b[0;34m[\u001b[0m\u001b[0;34m'code'\u001b[0m\u001b[0;34m]\u001b[0m \u001b[0;34m!=\u001b[0m \u001b[0;36m0\u001b[0m\u001b[0;34m:\u001b[0m\u001b[0;34m\u001b[0m\u001b[0;34m\u001b[0m\u001b[0m\n\u001b[0;32m---> 44\u001b[0;31m                 \u001b[0;32mraise\u001b[0m \u001b[0mException\u001b[0m\u001b[0;34m(\u001b[0m\u001b[0mresult\u001b[0m\u001b[0;34m[\u001b[0m\u001b[0;34m'msg'\u001b[0m\u001b[0;34m]\u001b[0m\u001b[0;34m)\u001b[0m\u001b[0;34m\u001b[0m\u001b[0;34m\u001b[0m\u001b[0m\n\u001b[0m\u001b[1;32m     45\u001b[0m             \u001b[0mdata\u001b[0m \u001b[0;34m=\u001b[0m \u001b[0mresult\u001b[0m\u001b[0;34m[\u001b[0m\u001b[0;34m'data'\u001b[0m\u001b[0;34m]\u001b[0m\u001b[0;34m\u001b[0m\u001b[0;34m\u001b[0m\u001b[0m\n\u001b[1;32m     46\u001b[0m             \u001b[0mcolumns\u001b[0m \u001b[0;34m=\u001b[0m \u001b[0mdata\u001b[0m\u001b[0;34m[\u001b[0m\u001b[0;34m'fields'\u001b[0m\u001b[0;34m]\u001b[0m\u001b[0;34m\u001b[0m\u001b[0;34m\u001b[0m\u001b[0m\n",
      "\u001b[0;31mException\u001b[0m: 抱歉，您每分钟最多访问该接口500次，权限的具体详情访问：https://tushare.pro/document/1?doc_id=108。"
     ]
    }
   ],
   "source": [
    " #构建一个空的dataframe用来装数据\n",
    "data=pd.DataFrame()\n",
    "for name,code in code_name.items():\n",
    "    data[name]=get_data(code)\n",
    "\n",
    "#data.to_csv('daily_data.csv',encoding='gbk')\n",
    "#data=pd.read_csv('stock_data.csv',encoding='gbk',index_col='trade_date')\n",
    "#data.index=(pd.to_datetime(data.index)).strftime('%Y%m%d')\n",
    "\n",
    "#计算收益率\n",
    "def cal_ret(df,w=5):\n",
    "    '''w:周5;月20;半年:120; 一年250\n",
    "    '''\n",
    "    df=df/df.shift(w)-1\n",
    "    return df.iloc[w:,:].fillna(0)"
   ]
  },
  {
   "cell_type": "markdown",
   "metadata": {},
   "source": [
    "经过这一轮的大幅上涨，截至2019年3月19日，上述3024只股票中，\n",
    "\n",
    "有49只股票120日收益率超过100%，占比1.68%；\n",
    "\n",
    "收益率在20%-100%之间的股票有1280只，占比达到43.99%；\n",
    "\n",
    "仍有360只股票120日收益率为负数。"
   ]
  },
  {
   "cell_type": "code",
   "execution_count": null,
   "metadata": {},
   "outputs": [],
   "source": [
    "ret120=cal_ret(data,w=120)\n",
    "\n",
    "#计算RPS\n",
    "def get_RPS(ser):\n",
    "    df=pd.DataFrame(ser.sort_values(ascending=False))\n",
    "    df['n']=range(1,len(df)+1)\n",
    "    df['rps']=(1-df['n']/len(df))*100\n",
    "    return df\n",
    "#计算每个交易日所有股票滚动w日的RPS\n",
    "def all_RPS(data):\n",
    "    dates=(data.index).strftime('%Y%m%d')\n",
    "    RPS={}\n",
    "    for i in range(len(data)):\n",
    "        RPS[dates[i]]=pd.DataFrame(get_RPS(data.iloc[i]).values,columns=['收益率','排名','RPS'],index=get_RPS(data.iloc[i]).index)  \n",
    "    return RPS  "
   ]
  },
  {
   "cell_type": "code",
   "execution_count": null,
   "metadata": {},
   "outputs": [],
   "source": [
    "rps120=all_RPS(ret120)\n",
    "#获取所有股票在某个期间的RPS值\n",
    "def all_data(rps,ret):\n",
    "    df=pd.DataFrame(np.NaN,columns=ret.columns,index=ret.index)\n",
    "    for date in ret.index:\n",
    "        date=date.strftime('%Y%m%d')\n",
    "        d=rps[date]\n",
    "        for c in d.index:\n",
    "            df.loc[date,c]=d.loc[c,'RPS']\n",
    "    return df\n",
    "\n",
    "#构建一个以前面收益率为基础的空表\n",
    "df_new=pd.DataFrame(np.NaN,columns=ret120.columns,index=ret120.index)"
   ]
  },
  {
   "cell_type": "markdown",
   "metadata": {},
   "source": [
    "计算所有股票在每一个交易日的向前120日滚动RPS值。对股票价格走势和RPS进行可视化"
   ]
  },
  {
   "cell_type": "code",
   "execution_count": null,
   "metadata": {},
   "outputs": [],
   "source": [
    "for date in df_new.index:\n",
    "    date=date.strftime('%Y%m%d')\n",
    "    d=rps120[date]\n",
    "    for c in d.index:\n",
    "        df_new.loc[date,c]=d.loc[c,'RPS']\n",
    "def plot_rps(stock):\n",
    "    plt.subplot(211)\n",
    "    data[stock][120:].plot(figsize=(16,16),color='r')\n",
    "    plt.title(stock+'股价走势',fontsize=15)\n",
    "    plt.yticks(fontsize=12)\n",
    "    plt.xticks([])\n",
    "    ax = plt.gca()  \n",
    "    ax.spines['right'].set_color('none') \n",
    "    ax.spines['top'].set_color('none') \n",
    "    plt.subplot(212)\n",
    "    df_new[stock].plot(figsize=(16,8),color='b')\n",
    "    plt.title(stock+'RPS相对强度',fontsize=15)\n",
    "    my_ticks = pd.date_range('2018-06-9','2019-3-31',freq='m')\n",
    "    plt.xticks(my_ticks,fontsize=12)\n",
    "    plt.yticks(fontsize=12)\n",
    "    ax = plt.gca()  \n",
    "    ax.spines['right'].set_color('none') \n",
    "    ax.spines['top'].set_color('none')\n",
    "    plt.show()"
   ]
  },
  {
   "cell_type": "markdown",
   "metadata": {},
   "source": [
    "查看2018年7月31日-2019年3月19日每月RPS情况。下面仅列出每个月RPS排名前十的股票，里面出现不少熟悉的“妖股”身影。"
   ]
  },
  {
   "cell_type": "markdown",
   "metadata": {},
   "source": [
    "dates=['20180731','20180831','20180928','20181031','20181130','20181228','20190131','20190228','20190319']\n",
    "df_rps=pd.DataFrame()\n",
    "for date in dates:\n",
    "    df_rps[date]=rps120[date].index[:50]"
   ]
  },
  {
   "cell_type": "markdown",
   "metadata": {},
   "source": [
    "东方通信是这一波上涨行情中的最大牛股，主要受益于5G题材的持续炒作。\n",
    "\n",
    "从下图可见，2018年11月，其120日RPS首次出现大于90，然后一直处于高位，具有非常明显的强势股特征。\n",
    "\n",
    "华业资本是本次120日收益率中最低的股票，自2018年8月其其RPS一直下跌，然后持续处于低位，股价一直反弹不起来。\n",
    "\n",
    "顺鑫农业的RPS在2018年6月-11月一直处于高位，然后股价出现了较大的回调。可见RPS的实战意义是，\n",
    "\n",
    "在强势股出现第一波上涨后发现它，然后深入挖掘，判断是否会出现第二、三波的再创新高。"
   ]
  },
  {
   "cell_type": "code",
   "execution_count": null,
   "metadata": {},
   "outputs": [],
   "source": [
    "plot_rps('东方通信')"
   ]
  },
  {
   "cell_type": "code",
   "execution_count": null,
   "metadata": {},
   "outputs": [],
   "source": [
    "plot_rps('华业资本')"
   ]
  },
  {
   "cell_type": "code",
   "execution_count": null,
   "metadata": {},
   "outputs": [],
   "source": [
    "plot_rps('顺鑫农业')"
   ]
  },
  {
   "cell_type": "markdown",
   "metadata": {},
   "source": [
    "## 结语\n",
    "\n",
    "欧奈尔研究了1953年至1993年，500只年度涨幅最大的股票，\n",
    "\n",
    "发现每年涨幅居前的，在他们股价真正大幅度攀升之前，其平均的相对强弱指标RPS为87％。\n",
    "\n",
    "这并不意味着，只要RPS>87%就可以买入该股票呢？其实RPS指标只是对强势股的个一个初步筛选，\n",
    "\n",
    "对于A股而言，RPS大于87%的股票就有400多只，都买进也不太现实，\n",
    "\n",
    "具体运用还需结合个股基本面、题材和整体市场情况分析。\n",
    "\n",
    "RPS实际上是欧奈尔在《笑傲股市》中提出的CANSLIM七步选股法的一个技术分析。各字母含义如下所示：\n",
    "\n",
    "C：最近一季度报表显示的盈利（每股收益）\n",
    "\n",
    "A：每年度每股盈利的增长幅度\n",
    "\n",
    "N：新产品，新服务，股价创新高\n",
    "\n",
    "S：该股流通盘大小，市值以及交易量的情况\n",
    "\n",
    "L：该股票在行业中的低位，是否为龙头\n",
    "\n",
    "I：该股票有无有实力的庄家，机构大流通股东\n",
    "\n",
    "M：大盘走势如何，如何判断大盘走向\n",
    "\n",
    "RPS可以帮助选出创出新高的股票。牛股一定创新高，但是新高不一定是牛股。\n",
    "\n",
    "所以关键是将RPS结合基本面进一步选择，基本面情况好，销售额和盈利增长很快，\n",
    "\n",
    "且这种增长是由公司推出的新产品或新服务带来的。\n",
    "\n",
    "本文主要分享了欧奈尔RPS指标的原理和Python计算方法，\n",
    "\n",
    "受篇幅所限，文中只给出了核心代码。\n",
    "\n",
    "文中提及股票不构成任何投资建议，投资有风险，入市需谨慎！"
   ]
  }
 ],
 "metadata": {
  "interpreter": {
   "hash": "6869619afde5ccaa692f7f4d174735a0f86b1f7ceee086952855511b0b6edec0"
  },
  "kernelspec": {
   "display_name": "Python 3.8.11 ('py38')",
   "language": "python",
   "name": "python3"
  },
  "language_info": {
   "codemirror_mode": {
    "name": "ipython",
    "version": 3
   },
   "file_extension": ".py",
   "mimetype": "text/x-python",
   "name": "python",
   "nbconvert_exporter": "python",
   "pygments_lexer": "ipython3",
   "version": "3.8.11"
  },
  "orig_nbformat": 4
 },
 "nbformat": 4,
 "nbformat_minor": 2
}

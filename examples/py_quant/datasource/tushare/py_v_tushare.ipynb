{
 "cells": [
  {
   "cell_type": "markdown",
   "metadata": {},
   "source": [
    "# python 获取股票数据可视化"
   ]
  },
  {
   "cell_type": "markdown",
   "metadata": {},
   "source": [
    "## tushare "
   ]
  },
  {
   "cell_type": "markdown",
   "metadata": {},
   "source": [
    "### 个股行情数据："
   ]
  },
  {
   "cell_type": "code",
   "execution_count": 6,
   "metadata": {},
   "outputs": [],
   "source": [
    "#先引入后面分析、可视化等可能用到的库\n",
    "import tushare as ts\n",
    "import pandas as pd  \n",
    "import matplotlib.pyplot as plt\n",
    "#正常显示画图时出现的中文和负号\n",
    "from pylab import mpl\n",
    "mpl.rcParams['font.sans-serif']=['SimHei']\n",
    "mpl.rcParams['axes.unicode_minus']=False\n",
    "\n",
    "import json\n",
    "from pathlib import Path\n",
    "\n",
    "\"\"\"\n",
    "{\n",
    "    \"tushare_token\": \"\"\n",
    "}\n",
    "\"\"\"\n",
    "source_path = Path(\"./py_assets_data_config.json\")\n",
    "configs = json.loads(source_path.read_text())\n",
    "#设置token\n",
    "\n",
    "# token='你的token'\n",
    "token = configs['tushare_token']\n",
    "#ts.set_token(token)\n",
    "pro = ts.pro_api(token)"
   ]
  },
  {
   "cell_type": "markdown",
   "metadata": {},
   "source": []
  },
  {
   "cell_type": "code",
   "execution_count": 18,
   "metadata": {},
   "outputs": [
    {
     "data": {
      "text/plain": [
       "'/Users/afirez/studio/python/auto-trade/examples/py_quant/render.html'"
      ]
     },
     "execution_count": 18,
     "metadata": {},
     "output_type": "execute_result"
    }
   ],
   "source": [
    "#获取当前上市的股票代码、简称、注册地、行业、上市时间等数据\n",
    "basic=pro.stock_basic(list_status='L')\n",
    "#查看前五行数据\n",
    "#basic.head(5)\n",
    "\n",
    "#获取平安银行日行情数据\n",
    "pa=pro.daily(ts_code='000001.SZ', start_date='20180101',\n",
    "               end_date='20190106')\n",
    "#pa.head()\n",
    "\n",
    "#K线图可视化\n",
    "from pyecharts import options as opts\n",
    "from pyecharts.charts import Kline\n",
    "pa.index=pd.to_datetime(pa.trade_date)\n",
    "pa=pa.sort_index()\n",
    "v1=list(pa.loc[:,['open','close','low','high']].values)\n",
    "t=pa.index\n",
    "v0=list(t.strftime('%Y%m%d'))\n",
    "kline = Kline(\n",
    "# \"平安银行K线图\"\n",
    "# , title_text_size=15\n",
    ")\n",
    "# kline.add(\"\", v0, v1,is_datazoom_show=True,\n",
    "#          mark_line=[\"average\"],\n",
    "#          mark_point=[\"max\", \"min\"],\n",
    "#          mark_point_symbolsize=60,\n",
    "#          mark_line_valuedim=['highest', 'lowest'] )\n",
    "kline.add_xaxis(v0)\n",
    "kline.add_yaxis(\n",
    "    \"Kline\",\n",
    "    v1,\n",
    "    markpoint_opts=opts.MarkPointOpts(data=[ opts.MarkPointItem(value_dim=[\"max\", \"min\"]) ]),\n",
    "    # markline_opts=opts.MarkLineOpts(type_='max', value_dim=\"close\")\n",
    "    markline_opts=opts.MarkLineOpts(data=[ opts.MarkLineItem(name=\"average\", value_dim=['highest',\"lowest\"]) ])\n",
    ")\n",
    "\n",
    "kline.set_global_opts(\n",
    "    xaxis_opts=opts.AxisOpts(is_scale=True),\n",
    "    yaxis_opts=opts.AxisOpts(\n",
    "        is_scale=True,\n",
    "        splitarea_opts=opts.SplitAreaOpts(is_show=True, areastyle_opts=opts.AreaStyleOpts(opacity=1))\n",
    "    ),\n",
    "    title_opts=opts.TitleOpts(title= \"平安银行K线图\"),\n",
    ")\n",
    "#kline.render(\"上证指数图.html\")\n",
    "kline.render()\n",
    "# kline.render_notebook()"
   ]
  },
  {
   "cell_type": "code",
   "execution_count": 19,
   "metadata": {},
   "outputs": [
    {
     "name": "stdout",
     "output_type": "stream",
     "text": [
      "['000010.SZ.csv', '000002.SZ.csv', '000012.SZ.csv', '600288SH.csv', '000016.SZ.csv', '000008.SZ.csv', '000004.SZ.csv', '000006.SZ.csv', '000014.SZ.csv', '000011.SZ.csv', '000001.SZ.csv', '600288SH_ts.csv', '000009.SZ.csv', '000017.SZ.csv', '000005.SZ.csv', '000007.SZ.csv', '000019.SZ.csv']\n"
     ]
    }
   ],
   "source": [
    "#定义获取多只股票函数：\n",
    "def get_stocks_data(stocklist,start,end):\n",
    "    all_data={}\n",
    "    for code in stocklist:\n",
    "        all_data[code]=pro.daily(ts_code=code,\n",
    "                 start_date=start, end_date=end)\n",
    "    return all_data\n",
    "\n",
    "#保存本地\n",
    "def save_data(all_data):\n",
    "    for code,data in all_data.items():\n",
    "        data.to_csv('./data/'+code+'.csv',\n",
    "                     header=True, index=False)\n",
    "\n",
    "stocklist=list(basic.ts_code)[:15]\n",
    "start=''\n",
    "end=''\n",
    "all_data=get_stocks_data(stocklist,start,end)\n",
    "\n",
    "all_data['000002.SZ'].tail()\n",
    "\n",
    "#将数据保存到本地\n",
    "save_data(all_data)\n",
    "\n",
    "#读取本地文件夹里所有文件\n",
    "import os\n",
    "#文件存储路径\n",
    "file='./data/'\n",
    "g=os.walk(file)\n",
    "filenames=[]\n",
    "for path,d,filelist in g:\n",
    "    for filename in filelist:\n",
    "        filenames.append(os.path.join(filename))\n",
    "print(filenames)\n",
    "\n",
    "#将读取的数据文件放入一个字典中\n",
    "df={}\n",
    "#从文件名中分离出股票代码\n",
    "code=[name.split('.')[0] for name in filenames]\n",
    "for i in range(len(filenames)):\n",
    "    filename=file+filenames[i]\n",
    "    df[code[i]]=pd.read_csv(filename)\n",
    "\n",
    "#查看第一只股票前五行数据\n",
    "#df[code[0]].head()"
   ]
  },
  {
   "cell_type": "code",
   "execution_count": 20,
   "metadata": {},
   "outputs": [
    {
     "ename": "Exception",
     "evalue": "抱歉，您没有访问该接口的权限，权限的具体详情访问：https://tushare.pro/document/1?doc_id=108。",
     "output_type": "error",
     "traceback": [
      "\u001b[0;31m---------------------------------------------------------------------------\u001b[0m",
      "\u001b[0;31mException\u001b[0m                                 Traceback (most recent call last)",
      "\u001b[0;32m<ipython-input-20-66c17a74317a>\u001b[0m in \u001b[0;36m<module>\u001b[0;34m\u001b[0m\n\u001b[1;32m     15\u001b[0m           \u001b[0;34m'上证50'\u001b[0m\u001b[0;34m:\u001b[0m \u001b[0;34m'000016.SH'\u001b[0m\u001b[0;34m,\u001b[0m \u001b[0;34m'中证500'\u001b[0m\u001b[0;34m:\u001b[0m \u001b[0;34m'000905.SH'\u001b[0m\u001b[0;34m,\u001b[0m\u001b[0;34m\u001b[0m\u001b[0;34m\u001b[0m\u001b[0m\n\u001b[1;32m     16\u001b[0m          '中小板指': '399005.SZ','上证180': '000010.SH'}\n\u001b[0;32m---> 17\u001b[0;31m \u001b[0mindex_data\u001b[0m\u001b[0;34m=\u001b[0m\u001b[0mget_index_data\u001b[0m\u001b[0;34m(\u001b[0m\u001b[0mindexs\u001b[0m\u001b[0;34m)\u001b[0m\u001b[0;34m\u001b[0m\u001b[0;34m\u001b[0m\u001b[0m\n\u001b[0m\u001b[1;32m     18\u001b[0m \u001b[0;31m#index_data['上证综指'].head()\u001b[0m\u001b[0;34m\u001b[0m\u001b[0;34m\u001b[0m\u001b[0;34m\u001b[0m\u001b[0m\n\u001b[1;32m     19\u001b[0m \u001b[0;34m\u001b[0m\u001b[0m\n",
      "\u001b[0;32m<ipython-input-20-66c17a74317a>\u001b[0m in \u001b[0;36mget_index_data\u001b[0;34m(indexs)\u001b[0m\n\u001b[1;32m      5\u001b[0m     \u001b[0mindex_data\u001b[0m\u001b[0;34m=\u001b[0m\u001b[0;34m{\u001b[0m\u001b[0;34m}\u001b[0m\u001b[0;34m\u001b[0m\u001b[0;34m\u001b[0m\u001b[0m\n\u001b[1;32m      6\u001b[0m     \u001b[0;32mfor\u001b[0m \u001b[0mname\u001b[0m\u001b[0;34m,\u001b[0m\u001b[0mcode\u001b[0m \u001b[0;32min\u001b[0m \u001b[0mindexs\u001b[0m\u001b[0;34m.\u001b[0m\u001b[0mitems\u001b[0m\u001b[0;34m(\u001b[0m\u001b[0;34m)\u001b[0m\u001b[0;34m:\u001b[0m\u001b[0;34m\u001b[0m\u001b[0;34m\u001b[0m\u001b[0m\n\u001b[0;32m----> 7\u001b[0;31m         \u001b[0mdf\u001b[0m\u001b[0;34m=\u001b[0m\u001b[0mpro\u001b[0m\u001b[0;34m.\u001b[0m\u001b[0mindex_daily\u001b[0m\u001b[0;34m(\u001b[0m\u001b[0mts_code\u001b[0m\u001b[0;34m=\u001b[0m\u001b[0mcode\u001b[0m\u001b[0;34m)\u001b[0m\u001b[0;34m\u001b[0m\u001b[0;34m\u001b[0m\u001b[0m\n\u001b[0m\u001b[1;32m      8\u001b[0m         \u001b[0mdf\u001b[0m\u001b[0;34m.\u001b[0m\u001b[0mindex\u001b[0m\u001b[0;34m=\u001b[0m\u001b[0mpd\u001b[0m\u001b[0;34m.\u001b[0m\u001b[0mto_datetime\u001b[0m\u001b[0;34m(\u001b[0m\u001b[0mdf\u001b[0m\u001b[0;34m.\u001b[0m\u001b[0mtrade_date\u001b[0m\u001b[0;34m)\u001b[0m\u001b[0;34m\u001b[0m\u001b[0;34m\u001b[0m\u001b[0m\n\u001b[1;32m      9\u001b[0m         \u001b[0mindex_data\u001b[0m\u001b[0;34m[\u001b[0m\u001b[0mname\u001b[0m\u001b[0;34m]\u001b[0m\u001b[0;34m=\u001b[0m\u001b[0mdf\u001b[0m\u001b[0;34m.\u001b[0m\u001b[0msort_index\u001b[0m\u001b[0;34m(\u001b[0m\u001b[0;34m)\u001b[0m\u001b[0;34m\u001b[0m\u001b[0;34m\u001b[0m\u001b[0m\n",
      "\u001b[0;32m/usr/local/anaconda3/envs/py38/lib/python3.8/site-packages/tushare/pro/client.py\u001b[0m in \u001b[0;36mquery\u001b[0;34m(self, api_name, fields, **kwargs)\u001b[0m\n\u001b[1;32m     42\u001b[0m             \u001b[0mresult\u001b[0m \u001b[0;34m=\u001b[0m \u001b[0mjson\u001b[0m\u001b[0;34m.\u001b[0m\u001b[0mloads\u001b[0m\u001b[0;34m(\u001b[0m\u001b[0mres\u001b[0m\u001b[0;34m.\u001b[0m\u001b[0mtext\u001b[0m\u001b[0;34m)\u001b[0m\u001b[0;34m\u001b[0m\u001b[0;34m\u001b[0m\u001b[0m\n\u001b[1;32m     43\u001b[0m             \u001b[0;32mif\u001b[0m \u001b[0mresult\u001b[0m\u001b[0;34m[\u001b[0m\u001b[0;34m'code'\u001b[0m\u001b[0;34m]\u001b[0m \u001b[0;34m!=\u001b[0m \u001b[0;36m0\u001b[0m\u001b[0;34m:\u001b[0m\u001b[0;34m\u001b[0m\u001b[0;34m\u001b[0m\u001b[0m\n\u001b[0;32m---> 44\u001b[0;31m                 \u001b[0;32mraise\u001b[0m \u001b[0mException\u001b[0m\u001b[0;34m(\u001b[0m\u001b[0mresult\u001b[0m\u001b[0;34m[\u001b[0m\u001b[0;34m'msg'\u001b[0m\u001b[0;34m]\u001b[0m\u001b[0;34m)\u001b[0m\u001b[0;34m\u001b[0m\u001b[0;34m\u001b[0m\u001b[0m\n\u001b[0m\u001b[1;32m     45\u001b[0m             \u001b[0mdata\u001b[0m \u001b[0;34m=\u001b[0m \u001b[0mresult\u001b[0m\u001b[0;34m[\u001b[0m\u001b[0;34m'data'\u001b[0m\u001b[0;34m]\u001b[0m\u001b[0;34m\u001b[0m\u001b[0;34m\u001b[0m\u001b[0m\n\u001b[1;32m     46\u001b[0m             \u001b[0mcolumns\u001b[0m \u001b[0;34m=\u001b[0m \u001b[0mdata\u001b[0m\u001b[0;34m[\u001b[0m\u001b[0;34m'fields'\u001b[0m\u001b[0;34m]\u001b[0m\u001b[0;34m\u001b[0m\u001b[0;34m\u001b[0m\u001b[0m\n",
      "\u001b[0;31mException\u001b[0m: 抱歉，您没有访问该接口的权限，权限的具体详情访问：https://tushare.pro/document/1?doc_id=108。"
     ]
    }
   ],
   "source": [
    "import numpy as np\n",
    "\n",
    "def get_index_data(indexs):\n",
    "    '''indexs是字典格式'''\n",
    "    index_data={}\n",
    "    for name,code in indexs.items():\n",
    "        df=pro.index_daily(ts_code=code)\n",
    "        df.index=pd.to_datetime(df.trade_date)   \n",
    "        index_data[name]=df.sort_index()\n",
    "    return index_data\n",
    "\n",
    "#获取常见股票指数行情\n",
    "indexs={'上证综指': '000001.SH','深证成指': '399001.SZ',\n",
    "         '沪深300': '000300.SH','创业板指': '399006.SZ',\n",
    "          '上证50': '000016.SH', '中证500': '000905.SH',\n",
    "         '中小板指': '399005.SZ','上证180': '000010.SH'}\n",
    "index_data=get_index_data(indexs)\n",
    "#index_data['上证综指'].head()\n",
    "\n",
    "#对股价走势进行可视化分析\n",
    "subjects =list(index_data.keys())\n",
    "#每个子图的title\n",
    "plot_pos = [421,422,423,424,425,426,427,428] # 每个子图的位置\n",
    "new_colors = ['#1f77b4','#ff7f0e', '#2ca02c', '#d62728',\n",
    "             '#9467bd','#8c564b', '#e377c2', \n",
    "             '#7f7f7f','#bcbd22','#17becf']\n",
    "\n",
    "fig = plt.figure(figsize=(16,18))\n",
    "fig.suptitle('A股股指走势',fontsize=18)\n",
    "for pos in np.arange(len(plot_pos)):       \n",
    "    ax = fig.add_subplot(plot_pos[pos]) \n",
    "    y_data =index_data[subjects[pos]]['close']    \n",
    "    b = ax.plot(y_data,color=new_colors[pos])   \n",
    "    ax.set_title(subjects[pos])    \n",
    "    # 将右上边的两条边颜色设置为空，相当于抹掉这两条边\n",
    "    ax = plt.gca()  \n",
    "    ax.spines['right'].set_color('none') \n",
    "    ax.spines['top'].set_color('none')    \n",
    "plt.show()"
   ]
  }
 ],
 "metadata": {
  "interpreter": {
   "hash": "6869619afde5ccaa692f7f4d174735a0f86b1f7ceee086952855511b0b6edec0"
  },
  "kernelspec": {
   "display_name": "Python 3.8.11 ('py38')",
   "language": "python",
   "name": "python3"
  },
  "language_info": {
   "codemirror_mode": {
    "name": "ipython",
    "version": 3
   },
   "file_extension": ".py",
   "mimetype": "text/x-python",
   "name": "python",
   "nbconvert_exporter": "python",
   "pygments_lexer": "ipython3",
   "version": "3.8.11"
  },
  "orig_nbformat": 4
 },
 "nbformat": 4,
 "nbformat_minor": 2
}
